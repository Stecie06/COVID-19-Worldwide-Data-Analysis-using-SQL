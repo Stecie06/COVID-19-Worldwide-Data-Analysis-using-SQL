{
  "cells": [
    {
      "cell_type": "markdown",
      "metadata": {
        "id": "view-in-github",
        "colab_type": "text"
      },
      "source": [
        "<a href=\"https://colab.research.google.com/github/Stecie06/COVID-19-Worldwide-Data-Analysis-using-SQL/blob/main/nn_notebook_exercise.ipynb\" target=\"_parent\"><img src=\"https://colab.research.google.com/assets/colab-badge.svg\" alt=\"Open In Colab\"/></a>"
      ]
    },
    {
      "cell_type": "markdown",
      "metadata": {
        "collapsed": true,
        "id": "3auVeknvcR1L"
      },
      "source": [
        "# Neural Networks tutorial\n"
      ]
    },
    {
      "cell_type": "markdown",
      "metadata": {
        "id": "xMt6qNWzJQf1"
      },
      "source": [
        "Hands-on tutorial: Neural Networks\n",
        "\n",
        "This hand-on tutorial will conver:\n",
        "* Logistic Regression as 2 - Layer NN\n",
        "* Neural Networks from scratch"
      ]
    },
    {
      "cell_type": "markdown",
      "metadata": {
        "id": "gdRkcKR-Jtk_"
      },
      "source": [
        "# 0. Populate the namespace\n",
        "Please, do not modify the functions and codes of this section, just execute them before moving forward\n"
      ]
    },
    {
      "cell_type": "markdown",
      "source": [
        "Introduction: In machine learning, classification is a fundamental supervised learning task where the goal is to assign a label or category to an input based on learned patterns from a labeled dataset. For instance, a model may learn to classify emails as \"spam\" or \"not spam\" based on features like subject line, word usage, and sender address. Classification problems can be binary (two classes) or multiclass (more than two categories), and they are central to many real-world applications such as disease diagnosis, image recognition, fraud detection, and sentiment analysis. The learning algorithm is trained on a dataset where each example is paired with a correct label, and the objective is to learn a decision boundary or rule that generalizes well to unseen data. Logistic regression, decision trees, support vector machines, and neural networks are some of the common machine learning algorithms used for classification tasks.\n",
        "\n",
        "In this tutorial, we explore how logistic regression and neural networks can be used to solve classification problems. We'll start by understanding the core ideas behind classification and implementing a simple logistic regression classifier from scratch."
      ],
      "metadata": {
        "id": "c_ZPHCEaUGzj"
      }
    },
    {
      "cell_type": "markdown",
      "metadata": {
        "id": "WI83PAHzN5-l"
      },
      "source": [
        "<font color='red'>\n",
        "<b>EXERCICES</b>: Replace the <b>FILL_IN</b> pattern with the correct codes then execute the cell\n",
        " </font>"
      ]
    },
    {
      "cell_type": "markdown",
      "metadata": {
        "id": "lYnA60E7Kplt"
      },
      "source": [
        "### Useful packages"
      ]
    },
    {
      "cell_type": "code",
      "execution_count": null,
      "metadata": {
        "ExecuteTime": {
          "end_time": "2020-01-30T12:40:48.889869Z",
          "start_time": "2020-01-30T12:40:46.534416Z"
        },
        "id": "MbXz8mMucR1R"
      },
      "outputs": [],
      "source": [
        "import numpy as np\n",
        "from sklearn import datasets\n",
        "import pylab as plt\n",
        "import numpy as np\n",
        "import matplotlib.pyplot as plt\n",
        "from sklearn.datasets import load_breast_cancer\n",
        "from sklearn.preprocessing import StandardScaler\n",
        "from sklearn.decomposition import PCA\n",
        "from sklearn.metrics import confusion_matrix\n",
        "%matplotlib inline"
      ]
    },
    {
      "cell_type": "markdown",
      "metadata": {
        "id": "tn_Q2VMRcR1T"
      },
      "source": [
        "### Utils"
      ]
    },
    {
      "cell_type": "code",
      "execution_count": null,
      "metadata": {
        "ExecuteTime": {
          "end_time": "2020-01-30T12:40:48.910296Z",
          "start_time": "2020-01-30T12:40:48.892809Z"
        },
        "id": "z0aQZGsacR1T"
      },
      "outputs": [],
      "source": [
        "# function for displying/visualising the decision boundary of the ML model\n",
        "def plot_decision_boundary(pred_func):\n",
        "    \"\"\"\n",
        "        Function to plot a decision boundary.\n",
        "    \"\"\"\n",
        "    # Set min and max values and give it some padding\n",
        "    x_min, x_max = X[:, 0].min() - .5, X[:, 0].max() + .5\n",
        "    y_min, y_max = X[:, 1].min() - .5, X[:, 1].max() + .5\n",
        "    h = 0.01\n",
        "    # Generate a grid of points with distance h between them\n",
        "    xx, yy = np.meshgrid(np.arange(x_min, x_max, h), np.arange(y_min, y_max, h))\n",
        "    # Predict the function value for the whole gid\n",
        "    Z = pred_func(np.c_[xx.ravel(), yy.ravel()])\n",
        "    Z = Z.reshape(xx.shape)\n",
        "    # Plot the contour and training examples\n",
        "    plt.contourf(xx, yy, Z, cmap=plt.cm.Spectral)\n",
        "    plt.scatter(X[:, 0], X[:, 1], c=y, cmap=plt.cm.Spectral)"
      ]
    },
    {
      "cell_type": "markdown",
      "metadata": {
        "id": "rwBAbUwQcR1U"
      },
      "source": [
        "## DataSet"
      ]
    },
    {
      "cell_type": "code",
      "execution_count": null,
      "metadata": {
        "ExecuteTime": {
          "end_time": "2020-01-30T12:40:49.710484Z",
          "start_time": "2020-01-30T12:40:49.437732Z"
        },
        "colab": {
          "base_uri": "https://localhost:8080/",
          "height": 447
        },
        "id": "V9tnuoQhcR1U",
        "outputId": "8635dbcc-36bb-443c-8f8d-b3a3af908991"
      },
      "outputs": [
        {
          "output_type": "execute_result",
          "data": {
            "text/plain": [
              "<matplotlib.collections.PathCollection at 0x7b80c6b1c8f0>"
            ]
          },
          "metadata": {},
          "execution_count": 45
        },
        {
          "output_type": "display_data",
          "data": {
            "text/plain": [
              "<Figure size 640x480 with 1 Axes>"
            ],
            "image/png": "[encoded data removed]"
          },
          "metadata": {}
        }
      ],
      "source": [
        "# Generate a dataset and plot it\n",
        "np.random.seed(0)\n",
        "X, y = datasets.make_moons(100, noise=0.20)\n",
        "plt.scatter(X[:,0], X[:,1], s=30, c=y, cmap=plt.cm.Spectral)"
      ]
    },
    {
      "cell_type": "markdown",
      "metadata": {
        "id": "9Z4IkU50cR1W"
      },
      "source": [
        "First let's test Logistic Regression classifier as baseline estimator.\n",
        "Find in [scikit-learn](https://scikit-learn.org/stable/modules/classes.html#module-sklearn.linear_model) the suitable package 'LogisticRegression'"
      ]
    },
    {
      "cell_type": "code",
      "execution_count": null,
      "metadata": {
        "ExecuteTime": {
          "end_time": "2020-01-30T12:40:54.154284Z",
          "start_time": "2020-01-30T12:40:54.062375Z"
        },
        "id": "X2Cmw9tHcR1W"
      },
      "outputs": [],
      "source": [
        "# Import LogisticRegression classifier from sklearn.linear_models\n",
        "# <FILL_IN>\n",
        "# Instantiate the LogisticRegression classifier using default parameters\n",
        "# clf = <FILL_IN>\n",
        "# Train the logistic regression classifier\n",
        "# clf.fit(<FILL_IN>, <FILL_IN>)"
      ]
    },
    {
      "cell_type": "code",
      "execution_count": null,
      "metadata": {
        "ExecuteTime": {
          "end_time": "2020-01-30T12:40:55.252150Z",
          "start_time": "2020-01-30T12:40:54.973182Z"
        },
        "id": "R7EOVKE4cR1W"
      },
      "outputs": [],
      "source": [
        "# Estimate the Logit decision boundary function using the classifier predictions\n",
        "# logit_decision_func = lambda x: clf.predict(x)\n",
        "# Plot the decision boundary using the plot_decision_boundary function defined in in the second cell above\n",
        "# <FILL_IN>\n",
        "# plt.title(\"Logistic Regression\")"
      ]
    },
    {
      "cell_type": "markdown",
      "metadata": {
        "id": "e7pGGO88cR1X"
      },
      "source": [
        "## 2. Two-layers Neural Networks: build from scratch\n",
        "Implementing a network from scratch at least once is an extremely valuable exercise. It helps you gain an understanding of how neural networks work, and that is essential to designing effective models."
      ]
    },
    {
      "cell_type": "markdown",
      "metadata": {
        "id": "mtwT_g92cR1X"
      },
      "source": [
        "Design of our neural architecture:\n",
        "* 2-layers neural network: 1-input layer, 1-hidden layer, and 1-output layer.\n",
        "* Nombre of nodes: 2(=dim of data) nodes for input layer, 2(=nombre of classes) nodes for output (can use only 1 output node predicting 0 or 1, but having 2 makes it easier to extend the network to more classes later)\n",
        "* Free to choose the number of nodes of the hidden layer. More nodes into the hidden layer decribs more complex functions to fit data. But more computations and risk of overfitting. Good choice of the size of hidden layer always depends on your specific problem.\n",
        "* Pick an activation function for our hidden layer. Nonlinear activation function is what allows us to fit nonlinear hypotheses. Common chocies for activation functions are tanh, the sigmoid function, or ReLUs. tanh performs quite well in many scenarios and has nice derivative property: $\\tanh x$ is $1-\\tanh^2 x$\n",
        "* Pick activation function for the output to to output probabilities. softmax converts raw scores to probabilities"
      ]
    },
    {
      "cell_type": "code",
      "source": [
        "# Architecture of the neural network, written as a list: [input_size, hidden_layer1_size, hidden_layer2_size, output_size]\n",
        "n = [2, 3, 3, 1]\n",
        "# Example: dataset with 5 features instead of 2 : n = [5, 3, 3, 1]\n",
        "# Deeper network with three hidden layers n = [2, 8, 8, 4, 1]  # input=2, hidden1=8, hidden2=8, hidden3=4, output=1\n",
        "\n",
        "\n",
        "# Helpful prints so you can quickly verify the layer sizes you intended.(This is great for debugging shape mismatches later.)\n",
        "# Number of input features per sample (e.g., x1, x2)\n",
        "print(\"layer 0 / input layer size\", n[0])\n",
        "print(\"layer 1 size\", n[1])                # Neurons in hidden layer 1\n",
        "print(\"layer 2 size\", n[2])                # # Neurons in hidden layer 2\n",
        "print(\"layer 3 size\", n[3])                # Number of outputs (e.g., 1 for binary classification)"
      ],
      "metadata": {
        "colab": {
          "base_uri": "https://localhost:8080/"
        },
        "id": "WgRZTZPFRmEI",
        "outputId": "001780f2-50ae-49fd-d083-eb956fa20627"
      },
      "execution_count": null,
      "outputs": [
        {
          "output_type": "stream",
          "name": "stdout",
          "text": [
            "layer 0 / input layer size 2\n",
            "layer 1 size 3\n",
            "layer 2 size 3\n",
            "layer 3 size 1\n"
          ]
        }
      ]
    },
    {
      "cell_type": "code",
      "source": [
        "n = [2, 3, 3, 1]\n",
        "print(\"layer 0 / input layer size\", n[0])\n",
        "print(\"layer 1 size\", n[1])\n",
        "print(\"layer 2 size\", n[2])\n",
        "print(\"layer 3 size\", n[3])"
      ],
      "metadata": {
        "colab": {
          "base_uri": "https://localhost:8080/"
        },
        "id": "g2PEbW08ke9G",
        "outputId": "4a60a16b-2b4d-4082-ae16-bbbd29ddea1e"
      },
      "execution_count": null,
      "outputs": [
        {
          "output_type": "stream",
          "name": "stdout",
          "text": [
            "layer 0 / input layer size 2\n",
            "layer 1 size 3\n",
            "layer 2 size 3\n",
            "layer 3 size 1\n"
          ]
        }
      ]
    },
    {
      "cell_type": "markdown",
      "source": [
        "## Randomly initialize the biases and weights."
      ],
      "metadata": {
        "id": "klnrGihqgtcb"
      }
    },
    {
      "cell_type": "code",
      "source": [
        "# Weight matrices (connect one layer to the next)\n",
        "W1 = <FILL_IN>  # Shape should be (n[1], n[0]) -> connects Input Layer to Hidden Layer 1\n",
        "W2 = <FILL_IN>  # Shape should be (n[2], n[1]) -> connects Hidden Layer 1 to Hidden Layer 2\n",
        "W3 = <FILL_IN>  # Shape should be (n[3], n[2]) -> connects Hidden Layer 2 to Output Layer\n",
        "\n",
        "# Bias vectors (one bias per neuron in each layer, except the input layer)\n",
        "b1 = <FILL_IN>  # Shape should be (n[1], 1) -> for Hidden Layer 1\n",
        "b2 = <FILL_IN>  # Shape should be (n[2], 1) -> for Hidden Layer 2\n",
        "b3 = <FILL_IN>  # Shape should be (n[3], 1) -> for Output Layer"
      ],
      "metadata": {
        "id": "qgfXQ1p0lpyI"
      },
      "execution_count": null,
      "outputs": []
    },
    {
      "cell_type": "code",
      "source": [
        "print(\"Weights for layer 1 shape:\", W1.shape)\n",
        "print(\"Weights for layer 2 shape:\", W2.shape)\n",
        "print(\"Weights for layer 3 shape:\", W3.shape)\n",
        "print(\"bias for layer 1 shape:\", b1.shape)\n",
        "print(\"bias for layer 2 shape:\", b2.shape)\n",
        "print(\"bias for layer 3 shape:\", b3.shape)"
      ],
      "metadata": {
        "colab": {
          "base_uri": "https://localhost:8080/"
        },
        "id": "oTPBxBdBk_CA",
        "outputId": "43fec7cc-563c-4a77-dc2d-311759568d65"
      },
      "execution_count": null,
      "outputs": [
        {
          "output_type": "stream",
          "name": "stdout",
          "text": [
            "Weights for layer 1 shape: (3, 2)\n",
            "Weights for layer 2 shape: (3, 3)\n",
            "Weights for layer 3 shape: (1, 3)\n",
            "bias for layer 1 shape: (3, 1)\n",
            "bias for layer 2 shape: (3, 1)\n",
            "bias for layer 3 shape: (1, 1)\n"
          ]
        }
      ]
    },
    {
      "cell_type": "code",
      "source": [
        "W1"
      ],
      "metadata": {
        "colab": {
          "base_uri": "https://localhost:8080/"
        },
        "id": "KpHOnvSml2rt",
        "outputId": "61713140-649c-4f3a-a84e-3a3c30aef0d4"
      },
      "execution_count": null,
      "outputs": [
        {
          "output_type": "execute_result",
          "data": {
            "text/plain": [
              "array([[ 1.00924453,  0.71338957],\n",
              "       [-0.72805772,  0.83951646],\n",
              "       [ 1.23902098, -1.78480389]])"
            ]
          },
          "metadata": {},
          "execution_count": 51
        }
      ]
    },
    {
      "cell_type": "code",
      "source": [
        "X.shape"
      ],
      "metadata": {
        "colab": {
          "base_uri": "https://localhost:8080/"
        },
        "id": "jGv-tUv9gsHy",
        "outputId": "a84242d0-5759-4dc9-bb00-a2fa911d623b"
      },
      "execution_count": null,
      "outputs": [
        {
          "output_type": "execute_result",
          "data": {
            "text/plain": [
              "(100, 2)"
            ]
          },
          "metadata": {},
          "execution_count": 52
        }
      ]
    },
    {
      "cell_type": "code",
      "source": [
        "# Activation Functions\n",
        "\n",
        "# SIGMOID FUNCTION\n",
        "# Equation: sigmoid(z) = 1 / (1 + e^(-z))\n",
        "#\n",
        "# What it does:\n",
        "# - Takes any real number and \"squashes\" it to a range between 0 and 1.\n",
        "# - Often used for probabilities, e.g., predicting if something belongs to Class 0 or 1.\n",
        "#\n",
        "# Example:\n",
        "# - If z = 0, sigmoid(0) = 0.5\n",
        "# - If z is a large positive number, sigmoid(z) approaches 1.\n",
        "# - If z is a large negative number, sigmoid(z) approaches 0.\n",
        "#\n",
        "# Where it's used:\n",
        "# - Typically in the OUTPUT layer for binary classification.\n",
        "#\n",
        "# Why it matters:\n",
        "# - It gives a nice probabilistic interpretation but can suffer from\n",
        "#   \"vanishing gradients\" for very large or very small z values.\n",
        "#\n",
        "# YOUR TASK: Replace <FILL_IN> with the correct formula.\n",
        "def sigmoid(z):\n",
        "    return <FILL_IN>\n",
        "\n",
        "# RELU FUNCTION (Rectified Linear Unit)\n",
        "# Equation: ReLU(z) = max(0, z)\n",
        "#\n",
        "# What it does:\n",
        "# - If the input is negative, it outputs 0.\n",
        "# - If the input is positive, it outputs the input value itself.\n",
        "#\n",
        "# Example:\n",
        "# - If z = -3, ReLU(z) = 0\n",
        "# - If z = 5, ReLU(z) = 5\n",
        "#\n",
        "# Where it's used:\n",
        "# - Most common activation for HIDDEN layers in modern neural networks.\n",
        "#\n",
        "# Why it matters:\n",
        "# - Helps avoid the vanishing gradient problem seen with sigmoid/tanh.\n",
        "# - Very efficient to compute.\n",
        "#\n",
        "# YOUR TASK: Replace <FILL_IN> with the correct formula.\n",
        "def relu(z):\n",
        "    return <FILL_IN>\n",
        "\n",
        "\n",
        "# DERIVATIVE OF SIGMOID (for Backpropagation)\n",
        "# Why we need it:\n",
        "# - During backpropagation, we need to know how sensitive the output is to changes\n",
        "#   in the input so we can update the weights correctly.\n",
        "#\n",
        "# Derivation:\n",
        "# - If a = sigmoid(z), then derivative sigmoid'(z) = a * (1 - a)\n",
        "#\n",
        "# Intuition:\n",
        "# - When the sigmoid output is near 0 or 1, the derivative is small\n",
        "#   -> this can slow down learning (vanishing gradient issue).\n",
        "#\n",
        "# YOUR TASK: Replace <FILL_IN> with the correct formula.\n",
        "def dsigmoid_from_a(a):\n",
        "    return <FILL_IN>\n",
        "\n",
        "# DERIVATIVE OF RELU (for Backpropagation)\n",
        "# Why we need it:\n",
        "# - Similar to the sigmoid derivative, but simpler:\n",
        "#   - If z > 0, derivative = 1\n",
        "#   - If z <= 0, derivative = 0\n",
        "#\n",
        "# Intuition:\n",
        "# - This tells us how much to adjust weights during learning.\n",
        "#\n",
        "# YOUR TASK: Replace <FILL_IN> with the correct formula.\n",
        "def drelu_from_z(z):\n",
        "    return <FILL_IN>\n",
        "\n",
        "\n",
        "\n",
        "# Choose the hidden-layer activation: 'sigmoid' or 'relu'\n",
        "HIDDEN_ACTIVATION = 'relu'   # <-- change to 'sigmoid' if you want\n",
        "\n",
        "def _act(z):\n",
        "    return relu(z) if HIDDEN_ACTIVATION=='relu' else sigmoid(z)\n",
        "\n",
        "def _dact(z=None, a=None):\n",
        "    # ReLU needs z; Sigmoid can use a\n",
        "    if HIDDEN_ACTIVATION=='relu':\n",
        "        return drelu_from_z(z)\n",
        "    else:\n",
        "        return dsigmoid_from_a(a)\n"
      ],
      "metadata": {
        "id": "AICzcEDumYBs"
      },
      "execution_count": null,
      "outputs": []
    },
    {
      "cell_type": "markdown",
      "source": [
        "# Forward Propagation\n",
        "\n",
        "Forward propagation is how information flows through a neural network **from inputs to outputs**.\n",
        "\n",
        "\n",
        "\n",
        "## Steps in Forward Propagation\n",
        "\n",
        "### 1. **Linear Transformation**\n",
        "\n",
        "$$\n",
        "Z^{[l]} = W^{[l]} \\cdot A^{[l-1]} + b^{[l]}\n",
        "$$\n",
        "\n",
        "Where:\n",
        "- **W[l]**: Weight matrix for layer `l`  \n",
        "- **A[l-1]**: Activations from the previous layer (or input data for the first layer)  \n",
        "- **b[l]**: Bias vector for layer `l`\n",
        "\n",
        "\n",
        "\n",
        "### 2. **Non-linear Activation Function**\n",
        "\n",
        "$$\n",
        "A^{[l]} = g(Z^{[l]})\n",
        "$$\n",
        "\n",
        "- Adds non-linearity so the network can learn complex patterns.\n",
        "- Common activation choices:\n",
        "  - **ReLU** for hidden layers\n",
        "  - **Sigmoid** for the output layer in binary classification\n",
        "\n",
        "\n",
        "\n",
        "### 3. **Final Output Layer**\n",
        "\n",
        "Produces probabilities or final predictions.\n",
        "\n",
        "For binary classification:\n",
        "$$\n",
        "A^{[output]} = \\sigma(Z^{[output]})\n",
        "$$\n",
        "\n",
        "Where **σ** represents the sigmoid activation function.\n",
        "\n",
        "\n",
        "\n",
        "## Example of Data Shape\n",
        "\n",
        "- **Input data**:  \n",
        "  `X.shape = (100, 2)` → 100 samples, each with 2 features.\n",
        "- **Why transpose?**  \n",
        "  We **transpose** it to `(2, 100)` because **columns represent individual examples** in our math notation.\n",
        "\n"
      ],
      "metadata": {
        "id": "Jwio_9HyW8Go"
      }
    },
    {
      "cell_type": "code",
      "source": [
        "# Forward Propagation\n",
        "m = X.shape[0]\n",
        "# layer 1 calculations\n",
        "# our training data  X in the shape m x n i.e (100, 2), but we need to transpose it for our feed forward process.\n",
        "\n",
        "# Forward Propagation with <FILL_IN> placeholders\n",
        "# Students must complete each step by replacing <FILL_IN> with correct operations.\n",
        "\n",
        "def feed_forward(A0):\n",
        "    # ----- Layer 1: Input -> Hidden Layer 1 -----\n",
        "    Z1 = <FILL_IN>\n",
        "\n",
        "    # Activation step: apply chosen activation function\n",
        "    A1 = <FILL_IN>  # Hint: use _act(Z1)\n",
        "\n",
        "\n",
        "    # ----- Layer 2: Hidden Layer 1 -> Hidden Layer 2 -----\n",
        "    Z2 = <FILL_IN>\n",
        "    A2 = <FILL_IN>\n",
        "\n",
        "\n",
        "    # ----- Layer 3: Hidden Layer 2 -> Output Layer -----\n",
        "    # The output layer uses SIGMOID for binary classification\n",
        "    Z3 = <FILL_IN>\n",
        "    A3 = <FILL_IN>  # Hint: use sigmoid(Z3)\n",
        "\n",
        "\n",
        "    # ----- Caching intermediate values -----\n",
        "    # Store inputs and outputs of each layer for backpropagation\n",
        "    cache = {\n",
        "        \"A0\": <FILL_IN>,\n",
        "        \"A1\": <FILL_IN>,\n",
        "        \"A2\": <FILL_IN>,\n",
        "        \"Z1\": <FILL_IN>,\n",
        "        \"Z2\": <FILL_IN>,\n",
        "        \"Z3\": <FILL_IN>\n",
        "    }\n",
        "\n",
        "    # Return the final output and all intermediate values\n",
        "    return <FILL_IN>, <FILL_IN>  # Hint: return A3, cache\n"
      ],
      "metadata": {
        "id": "76U82c_wnOI_"
      },
      "execution_count": null,
      "outputs": []
    },
    {
      "cell_type": "markdown",
      "source": [
        "# Running Forward Propagation\n",
        "\n",
        "Now that we have implemented our `feed_forward` function, let's **run the network on our input data**.\n",
        "\n",
        "\n",
        "\n",
        "## Steps:\n",
        "\n",
        "1. **Prepare Input Data (`A0`)**\n",
        "   - Our input matrix `X` has shape `(m, n_features)`, where:\n",
        "     - `m` = number of training examples\n",
        "     - `n_features` = number of features per example\n",
        "   - For matrix multiplication in our network, we **transpose** `X` so that:\n",
        "     \\[\n",
        "     A^0 = X^T\n",
        "     \\]\n",
        "     - Shape becomes `(n_features, m)` → each **column represents a single training example**.\n",
        "\n",
        "\n",
        "\n",
        "2. **Get Predictions (`y_hat`)**\n",
        "   - We call `feed_forward(A0)` to compute predictions through the network.\n",
        "   - The output `y_hat` will have shape:\n",
        "     \\[\n",
        "     (1, m)\n",
        "     \\]\n",
        "     - Each column represents the **predicted probability** that the example belongs to class `1`.\n",
        "\n",
        "\n",
        "\n",
        "3. **Cache Values**\n",
        "   - The `cache` dictionary stores all intermediate values (`Z` and `A` for each layer).\n",
        "   - This is **essential for backpropagation** when we update the weights later.\n",
        "\n",
        "\n",
        "4. **Verify Output Shape**\n",
        "   - Finally, we print `y_hat.shape` to confirm the output has the correct dimensions.\n",
        "   - Expected shape:\n",
        "     ```\n",
        "     (1, number_of_examples)\n",
        "     ```\n"
      ],
      "metadata": {
        "id": "6QBcXrrMY1jp"
      }
    },
    {
      "cell_type": "code",
      "source": [
        "# Transpose the input data\n",
        "A0 = <FILL_IN>  # Hint: Use X.T to transpose the input\n",
        "\n",
        "# Run forward propagation\n",
        "y_hat, cache = <FILL_IN>  # Hint: Call feed_forward(A0)\n",
        "\n",
        "# Print shape of predictions\n",
        "print(y_hat.shape)  # Should be (1, m) where m = number of examples"
      ],
      "metadata": {
        "colab": {
          "base_uri": "https://localhost:8080/"
        },
        "id": "za5M-bdipKJB",
        "outputId": "31a4dc92-2914-4c1a-8e0f-f25c79bef866"
      },
      "execution_count": null,
      "outputs": [
        {
          "output_type": "stream",
          "name": "stdout",
          "text": [
            "(1, 100)\n"
          ]
        }
      ]
    },
    {
      "cell_type": "code",
      "source": [
        "y_hat"
      ],
      "metadata": {
        "colab": {
          "base_uri": "https://localhost:8080/"
        },
        "id": "ve73WIUVpQmB",
        "outputId": "011be8e8-1588-4e96-c21e-bd6ac346b6e8"
      },
      "execution_count": null,
      "outputs": [
        {
          "output_type": "execute_result",
          "data": {
            "text/plain": [
              "array([[0.52452697, 0.22642656, 0.34344185, 0.52452697, 0.3270875 ,\n",
              "        0.20608692, 0.4883985 , 0.32794953, 0.52452697, 0.22783184,\n",
              "        0.52452697, 0.22813822, 0.28572161, 0.43362848, 0.47394113,\n",
              "        0.52452697, 0.52452697, 0.52452697, 0.52452697, 0.36940368,\n",
              "        0.52452697, 0.44138225, 0.43920003, 0.3407201 , 0.52452697,\n",
              "        0.52452697, 0.42900878, 0.20909456, 0.23887884, 0.2780151 ,\n",
              "        0.45403237, 0.31352797, 0.23242589, 0.404162  , 0.52452697,\n",
              "        0.52452697, 0.52452697, 0.52452697, 0.52452697, 0.31888472,\n",
              "        0.27222702, 0.40274805, 0.52452697, 0.52452697, 0.36121732,\n",
              "        0.50693124, 0.52452697, 0.52452697, 0.52452697, 0.38649733,\n",
              "        0.25465855, 0.52452697, 0.40101141, 0.52452697, 0.52452697,\n",
              "        0.52452697, 0.51827679, 0.52452697, 0.52452697, 0.52452697,\n",
              "        0.47748077, 0.52452697, 0.4678874 , 0.50610926, 0.33148178,\n",
              "        0.28811398, 0.52452697, 0.26746244, 0.46764284, 0.22987597,\n",
              "        0.52452697, 0.52452697, 0.52452697, 0.21535365, 0.20365727,\n",
              "        0.37641886, 0.52452697, 0.22599741, 0.3428027 , 0.29481828,\n",
              "        0.52452697, 0.52452697, 0.28138719, 0.52452697, 0.52452697,\n",
              "        0.5192958 , 0.51477079, 0.43533449, 0.24786251, 0.39614018,\n",
              "        0.25422989, 0.52452697, 0.52452697, 0.2843829 , 0.37625448,\n",
              "        0.22396105, 0.41360358, 0.33486856, 0.52452697, 0.52452697]])"
            ]
          },
          "metadata": {},
          "execution_count": 57
        }
      ]
    },
    {
      "cell_type": "markdown",
      "source": [
        "# Preparing the Labels (`y`)\n",
        "\n",
        "Our neural network produces predictions from the last layer with the shape:\n",
        "\n",
        "$$\n",
        "A^{[L]} = (n^{[L]}, m)\n",
        "$$\n",
        "\n",
        "Where:\n",
        "\n",
        "- $n^{[L]}$ is the number of neurons in the **output layer** (given by `n[3]` in our network definition).\n",
        "- $m$ is the number of training examples.\n",
        "\n",
        "For everything to work smoothly, our labels \\( y \\) must **match this shape exactly** so that:\n",
        "\n",
        "$$\n",
        "y.shape = A^{[L]}.shape\n",
        "$$\n",
        "\n",
        "\n"
      ],
      "metadata": {
        "id": "mZIhTxfDZaNJ"
      }
    },
    {
      "cell_type": "code",
      "source": [
        "# According to our neural network, the last layer n^[L] = n^[3] = 1, so the training label data Y will have dimensions 1 x m.\n",
        "m = X.shape[0]\n",
        "y = y.reshape(n[3], m)\n",
        "y.shape\n",
        "\n",
        "# Step 1: Get the number of training examples\n",
        "m = <FILL_IN>  # Hint: Use X.shape[0] to get number of rows in X\n",
        "\n",
        "# Step 2: Reshape the labels to match the output layer\n",
        "y = <FILL_IN>  # Hint: Use y.reshape(1, m)\n",
        "\n",
        "# Step 3: Confirm the shape\n",
        "print(y.shape)  # Expected: (1, m)"
      ],
      "metadata": {
        "colab": {
          "base_uri": "https://localhost:8080/",
          "height": 106
        },
        "id": "AkOgpm1sl--P",
        "outputId": "d2ab2de0-0858-459f-dbff-28ca79a09f58"
      },
      "execution_count": null,
      "outputs": [
        {
          "output_type": "error",
          "ename": "SyntaxError",
          "evalue": "invalid syntax (ipython-input-3241710679.py, line 7)",
          "traceback": [
            "\u001b[0;36m  File \u001b[0;32m\"/tmp/ipython-input-3241710679.py\"\u001b[0;36m, line \u001b[0;32m7\u001b[0m\n\u001b[0;31m    m = <FILL_IN>  # Hint: Use X.shape[0] to get number of rows in X\u001b[0m\n\u001b[0m        ^\u001b[0m\n\u001b[0;31mSyntaxError\u001b[0m\u001b[0;31m:\u001b[0m invalid syntax\n"
          ]
        }
      ]
    },
    {
      "cell_type": "markdown",
      "source": [
        "## Cost/Loss Function"
      ],
      "metadata": {
        "id": "hutfK2VFqCa2"
      }
    },
    {
      "cell_type": "markdown",
      "source": [
        "# Binary Cross-Entropy Loss Function\n",
        "\n",
        "The **loss function** measures how well our model's predictions match the actual labels.\n",
        "\n",
        "For **binary classification**, we use the **Binary Cross-Entropy Loss** (also known as *Log Loss*).\n",
        "\n",
        "\n",
        "## Formula\n",
        "\n",
        "The formula for one training example is:\n",
        "\n",
        "$$\n",
        "L = - \\big[ y \\cdot \\log(\\hat{y}) + (1 - y) \\cdot \\log(1 - \\hat{y}) \\big]\n",
        "$$\n",
        "\n",
        "Where:\n",
        "- \\( y \\) = true label (0 or 1)\n",
        "- \\( \\hat{y} \\) = predicted probability from the network\n",
        "\n",
        "\n",
        "\n",
        "## For Multiple Examples\n",
        "\n",
        "For **m** training examples, we take the **average** loss across all samples:\n",
        "\n",
        "$$\n",
        "J = \\frac{1}{m} \\sum_{i=1}^{m} - \\big[ y^{(i)} \\cdot \\log(\\hat{y}^{(i)}) + (1 - y^{(i)}) \\cdot \\log(1 - \\hat{y}^{(i)}) \\big]\n",
        "$$\n",
        "\n",
        "Where:\n",
        "- \\( i \\) indexes each training example\n",
        "- \\( J \\) is the **final cost** we minimize during training\n",
        "\n",
        "\n",
        "# Why This Loss?\n",
        "\n",
        "- If the true label $y = 1$, the first term $-y \\cdot \\log(\\hat{y})$ penalizes wrong predictions.  \n",
        "- If the true label $y = 0$, the second term $-(1 - y) \\cdot \\log(1 - \\hat{y})$ penalizes wrong predictions.  \n",
        "- This encourages the network to **output probabilities close to the correct class**.\n",
        "\n",
        "\n",
        "# Expected Shapes\n",
        "\n",
        "- $\\hat{y}$ should have shape $(n[3], m)$ → same as the network output $A3$.  \n",
        "- $y$ should also have shape $(n[3], m)$ → reshaped earlier to match $A3$.\n"
      ],
      "metadata": {
        "id": "cV_9aSdsbahs"
      }
    },
    {
      "cell_type": "code",
      "source": [
        "\n",
        "# Binary Cross-Entropy Loss Function\n",
        "def cross_entropy(y_hat, y):\n",
        "    \"\"\"\n",
        "    Parameters:\n",
        "    y_hat: predicted probabilities, shape (n[3], m)\n",
        "    y: true labels, shape (n[3], m)\n",
        "\n",
        "    Returns:\n",
        "    The average cross-entropy loss as a scalar.\n",
        "    \"\"\"\n",
        "\n",
        "    # Step 1: Compute element-wise loss for each sample\n",
        "    losses = <FILL_IN>\n",
        "\n",
        "\n",
        "    # Step 2: Find the number of samples\n",
        "    m = <FILL_IN>\n",
        "\n",
        "    # Step 3: Compute the mean loss\n",
        "    summed_losses = <FILL_IN>\n",
        "\n",
        "    # Step 4: Return final scalar value (sum of losses)\n",
        "    return <FILL_IN>\n",
        "\n"
      ],
      "metadata": {
        "id": "kUIdpu7Io3Qd"
      },
      "execution_count": null,
      "outputs": []
    },
    {
      "cell_type": "code",
      "source": [
        "cross_entropy(y_hat, y)"
      ],
      "metadata": {
        "colab": {
          "base_uri": "https://localhost:8080/"
        },
        "id": "G4dxEO1OqZT8",
        "outputId": "9e426ccf-447d-4201-8259-33cfda9a5d50"
      },
      "execution_count": null,
      "outputs": [
        {
          "output_type": "execute_result",
          "data": {
            "text/plain": [
              "np.float64(0.886528247843137)"
            ]
          },
          "metadata": {},
          "execution_count": 60
        }
      ]
    },
    {
      "cell_type": "markdown",
      "source": [
        "# Backpropagation: Computing Gradients\n",
        "\n",
        "Backpropagation is the process of **calculating gradients** so we can update the network's weights and biases.\n",
        "\n",
        "We work **backwards through the network**:\n",
        "1. Start at the **output layer** and compute the gradient of the loss with respect to its inputs.\n",
        "2. Pass this \"error signal\" back to previous layers using the chain rule.\n",
        "3. Repeat until we reach the first hidden layer.\n",
        "\n",
        "\n",
        "\n",
        "## Goal\n",
        "\n",
        "We want to compute:\n",
        "\n",
        "- $\\frac{\\partial C}{\\partial W}$ → Gradient of the cost with respect to weights  \n",
        "- $\\frac{\\partial C}{\\partial b}$ → Gradient of the cost with respect to biases  \n",
        "- $\\frac{\\partial C}{\\partial A}$ → Gradient of the cost with respect to activations (for passing to the previous layer)\n",
        "\n",
        "Where:\n",
        "- $C$ is the loss (Binary Cross-Entropy in our case)\n",
        "- $W$, $b$, and $A$ are layer parameters and activations\n",
        "\n",
        "\n",
        "\n",
        "## Process\n",
        "\n",
        "Each layer has **two main steps**:\n",
        "1. **Compute** $\\delta Z$:$$ \\delta Z = \\delta A \\cdot g'(Z)$$\n",
        "\n",
        "   - $g'(Z)$ is the derivative of the activation function.\n",
        "\n",
        "2. Use $\\delta Z$ to compute:\n",
        "   - $\\frac{\\partial C}{\\partial W} = \\delta Z \\cdot A^{[l-1]T}$\n",
        "   - $\\frac{\\partial C}{\\partial b} = \\text{sum}(\\delta Z)$\n",
        "   - $\\delta A = W^T \\cdot \\delta Z$\n",
        "\n",
        "\n",
        "\n",
        "We’ll implement this **layer-by-layer**:\n",
        "- `backprop_layer_3`: Output layer\n",
        "- `backprop_layer_2`: Second hidden layer\n",
        "- `backprop_layer_1`: First hidden layer\n"
      ],
      "metadata": {
        "id": "nyaSS6Cgcfwl"
      }
    },
    {
      "cell_type": "code",
      "source": [
        "# Backpropagation: Output Layer\n",
        "def backprop_layer_3(y_hat, Y, m, A2, W3):\n",
        "    \"\"\"\n",
        "    Compute gradients for the output layer.\n",
        "\n",
        "    Parameters:\n",
        "    - y_hat: predictions (output from forward propagation), shape (n[3], m)\n",
        "    - Y: true labels, shape (n[3], m)\n",
        "    - m: number of training examples\n",
        "    - A2: activations from the previous layer\n",
        "    - W3: weights of the output layer\n",
        "\n",
        "    Returns:\n",
        "    - dC_dW3: gradient w.r.t. W3\n",
        "    - dC_db3: gradient w.r.t. b3\n",
        "    - dC_dA2: gradient w.r.t. activations passed to previous layer\n",
        "    \"\"\"\n",
        "    A3 = y_hat\n",
        "\n",
        "    # Step 1: Compute dC/dZ3\n",
        "    dC_dZ3 = <FILL_IN>  # Hint: (1/m) * (A3 - Y)\n",
        "\n",
        "    # Step 2: Compute dC/dW3\n",
        "    dC_dW3 = <FILL_IN>  # Hint: dC_dZ3 @ A2.T\n",
        "\n",
        "    # Step 3: Compute dC/db3\n",
        "    dC_db3 = <FILL_IN>  # Hint: sum along axis=1, keepdims=True\n",
        "\n",
        "    # Step 4: Compute dC/dA2 to pass backward\n",
        "    dC_dA2 = <FILL_IN>  # Hint: W3.T @ dC_dZ3\n",
        "\n",
        "    return dC_dW3, dC_db3, dC_dA2"
      ],
      "metadata": {
        "id": "MFuGsxjCdKDp"
      },
      "execution_count": null,
      "outputs": []
    },
    {
      "cell_type": "code",
      "source": [
        "# Backpropagation: Hidden Layer 2\n",
        "def backprop_layer_2(propagator_dC_dA2, A1, A2, W2, Z2):\n",
        "    \"\"\"\n",
        "    Compute gradients for the second hidden layer.\n",
        "\n",
        "    Parameters:\n",
        "    - propagator_dC_dA2: gradient passed from next layer\n",
        "    - A1: activations from layer 1\n",
        "    - A2: activations from layer 2\n",
        "    - W2: weights of layer 2\n",
        "    - Z2: linear output of layer 2\n",
        "\n",
        "    Returns:\n",
        "    - dC_dW2, dC_db2, dC_dA1\n",
        "    \"\"\"\n",
        "    # Step 1: Compute derivative of activation\n",
        "    if HIDDEN_ACTIVATION == 'relu':\n",
        "        dA2_dZ2 = <FILL_IN>  # Hint: _dact(z=Z2)\n",
        "    else:\n",
        "        dA2_dZ2 = <FILL_IN>  # Hint: _dact(a=A2)\n",
        "\n",
        "    # Step 2: Compute dC/dZ2\n",
        "    dC_dZ2 = <FILL_IN>  # Hint: propagator_dC_dA2 * dA2_dZ2\n",
        "\n",
        "    # Step 3: Compute dC/dW2\n",
        "    dC_dW2 = <FILL_IN>  # Hint: dC_dZ2 @ A1.T\n",
        "\n",
        "    # Step 4: Compute dC/db2\n",
        "    dC_db2 = <FILL_IN>  # Hint: sum along axis=1, keepdims=True\n",
        "\n",
        "    # Step 5: Compute dC/dA1 for next layer backward\n",
        "    dC_dA1 = <FILL_IN>  # Hint: W2.T @ dC_dZ2\n",
        "\n",
        "    return dC_dW2, dC_db2, dC_dA1"
      ],
      "metadata": {
        "id": "xSMXE93wdX0n"
      },
      "execution_count": null,
      "outputs": []
    },
    {
      "cell_type": "markdown",
      "source": [
        "# Hidden Layer Backpropagation\n",
        "\n",
        "For each hidden layer, we follow these steps:\n",
        "\n",
        "\n",
        "### **1. Activation Derivative**\n",
        "\n",
        "- **For ReLU:**\n",
        "\n",
        "  $$\n",
        "  g'(Z) =\n",
        "  \\begin{cases}\n",
        "  1 & \\text{if } Z > 0 \\\\\n",
        "  0 & \\text{otherwise}\n",
        "  \\end{cases}\n",
        "  $$\n",
        "\n",
        "- **For Sigmoid:**\n",
        "\n",
        "  $$\n",
        "  g'(Z) = A \\cdot (1 - A)\n",
        "  $$\n",
        "\n",
        "\n",
        "\n",
        "### **2. Compute $\\delta Z$**\n",
        "\n",
        "$$\n",
        "\\delta Z = \\delta A \\cdot g'(Z)\n",
        "$$\n",
        "\n",
        "\n",
        "\n",
        "### **3. Weight Gradient**\n",
        "\n",
        "$$\n",
        "\\frac{\\partial C}{\\partial W} = \\delta Z \\cdot A_{\\text{prev}}^T\n",
        "$$\n",
        "\n",
        "Where $A_{\\text{prev}}$ is the activation output from the previous layer.\n",
        "\n",
        "\n",
        "### **4. Bias Gradient**\n",
        "\n",
        "$$\n",
        "\\frac{\\partial C}{\\partial b} = \\sum \\delta Z\n",
        "$$\n",
        "\n",
        "Sum across all training examples to get the gradient for each bias unit.\n",
        "\n",
        "\n",
        "### **5. Propagate Backward**\n",
        "\n",
        "$$\n",
        "\\delta A_{\\text{prev}} = W^T \\cdot \\delta Z\n",
        "$$\n",
        "\n",
        "This value is passed to the previous layer to continue backpropagation.\n"
      ],
      "metadata": {
        "id": "7XwBgshZdjzP"
      }
    },
    {
      "cell_type": "code",
      "source": [
        "# Backpropagation: Hidden Layer 1\n",
        "def backprop_layer_1(propagator_dC_dA1, A1, A0, W1, Z1):\n",
        "    \"\"\"\n",
        "    Compute gradients for the first hidden layer.\n",
        "    \"\"\"\n",
        "    # Step 1: Compute activation derivative\n",
        "    if HIDDEN_ACTIVATION == 'relu':\n",
        "        dA1_dZ1 = <FILL_IN>  # Hint: _dact(z=Z1)\n",
        "    else:\n",
        "        dA1_dZ1 = <FILL_IN>  # Hint: _dact(a=A1)\n",
        "\n",
        "    # Step 2: Compute dC/dZ1\n",
        "    dC_dZ1 = <FILL_IN>  # Hint: propagator_dC_dA1 * dA1_dZ1\n",
        "\n",
        "    # Step 3: Compute dC/dW1\n",
        "    dC_dW1 = <FILL_IN>  # Hint: dC_dZ1 @ A0.T\n",
        "\n",
        "    # Step 4: Compute dC/db1\n",
        "    dC_db1 = <FILL_IN>  # Hint: sum along axis=1, keepdims=True\n",
        "\n",
        "    return dC_dW1, dC_db1"
      ],
      "metadata": {
        "id": "zrGCvjJCd3G2"
      },
      "execution_count": null,
      "outputs": []
    },
    {
      "cell_type": "markdown",
      "source": [
        "# Training the Neural Network\n",
        "\n",
        "The `train()` function brings together all the steps to optimize the neural network:\n",
        "\n",
        "\n",
        "## **Steps in Training**\n",
        "\n",
        "1. **Forward Propagation**\n",
        "   - Compute predictions using the current weights and biases.\n",
        "   - This gives us the network's outputs, $\\hat{Y}$.\n",
        "\n",
        "\n",
        "2. **Loss Calculation**\n",
        "   - Measure how far predictions are from actual labels using **binary cross-entropy loss**:\n",
        "     $$\n",
        "     C = -\\frac{1}{m} \\sum \\Big[ y \\cdot \\log(\\hat{y}) + (1 - y) \\cdot \\log(1 - \\hat{y}) \\Big]\n",
        "     $$\n",
        "\n",
        "\n",
        "3. **Backpropagation**\n",
        "   - Pass the error signal backward through the network.\n",
        "   - Compute the **gradients** for each:\n",
        "     - $\\frac{\\partial C}{\\partial W_3}, \\quad \\frac{\\partial C}{\\partial b_3}$\n",
        "     - $\\frac{\\partial C}{\\partial W_2}, \\quad \\frac{\\partial C}{\\partial b_2}$\n",
        "     - $\\frac{\\partial C}{\\partial W_1}, \\quad \\frac{\\partial C}{\\partial b_1}$\n",
        "\n",
        "\n",
        "4. **Parameter Update (Gradient Descent)**\n",
        "   - Update each parameter using the gradients:\n",
        "     $$\n",
        "     W = W - \\alpha \\cdot \\frac{\\partial C}{\\partial W}\n",
        "     $$\n",
        "     $$\n",
        "     b = b - \\alpha \\cdot \\frac{\\partial C}{\\partial b}\n",
        "     $$\n",
        "   - Where:\n",
        "     - \\( \\alpha \\) = learning rate\n",
        "     - \\( W, b \\) = current weights and biases\n",
        "\n",
        "\n",
        "5. **Monitor Progress**\n",
        "   - Print the cost every few epochs to check if learning is happening.\n",
        "   - A **decreasing cost** means the network is improving.\n"
      ],
      "metadata": {
        "id": "WUQwpuoSflG_"
      }
    },
    {
      "cell_type": "code",
      "source": [
        "def train():\n",
        "    # Step 0: Access global variables for weights and biases\n",
        "    global W3, W2, W1, b3, b2, b1\n",
        "\n",
        "      # Step 1: Prepare A0 (input layer activation)\n",
        "    A0 = <FILL_IN>  # Hint: X.T to transpose the input data\n",
        "\n",
        "    # Step 1: Set hyperparameters\n",
        "    epochs = <FILL_IN>  # Hint: number of iterations, e.g., 1000\n",
        "    alpha = <FILL_IN>   # Hint: learning rate, e.g., 0.1\n",
        "    costs = []\n",
        "\n",
        "    for e in range(epochs):\n",
        "        # 1) FORWARD PROPAGATION\n",
        "        y_hat, cache = <FILL_IN>  # Hint: call the feed_forward function\n",
        "\n",
        "        # 2) LOSS CALCULATION\n",
        "        error = <FILL_IN>  # Hint: call the cross_entropy function\n",
        "        costs.append(error)\n",
        "\n",
        "        # 3) BACKPROPAGATION\n",
        "        # Compute gradients for output layer\n",
        "        dC_dW3, dC_db3, dC_dA2 = <FILL_IN>\n",
        "        # Hint: all the function backprop_layer_3\n",
        "\n",
        "        # Compute gradients for second hidden layer\n",
        "        dC_dW2, dC_db2, dC_dA1 = <FILL_IN>\n",
        "        # Hint: all the function backprop_layer_2\n",
        "\n",
        "        # Compute gradients for first hidden layer\n",
        "        dC_dW1, dC_db1 = <FILL_IN>\n",
        "        # Hint: call the function backprop_layer_1\n",
        "\n",
        "        # 4) UPDATE PARAMETERS\n",
        "        # Update output layer\n",
        "        W3 = <FILL_IN>\n",
        "        b3 = <FILL_IN>\n",
        "\n",
        "        # Update second hidden layer\n",
        "        W2 = <FILL_IN>\n",
        "        b2 = <FILL_IN>\n",
        "\n",
        "        # Update first hidden layer\n",
        "        W1 = <FILL_IN>\n",
        "        b1 = <FILL_IN>\n",
        "\n",
        "        # 5) MONITOR PROGRESS\n",
        "        if e % 20 == 0:\n",
        "            print(f\"epoch {e}: cost = {error:.6f}\")\n",
        "\n",
        "    return costs\n"
      ],
      "metadata": {
        "id": "WtjkgSf_fN0P"
      },
      "execution_count": null,
      "outputs": []
    },
    {
      "cell_type": "code",
      "source": [
        "costs = train()"
      ],
      "metadata": {
        "colab": {
          "base_uri": "https://localhost:8080/"
        },
        "id": "1sTnKWwDLn3_",
        "outputId": "a5e94fe5-9ffb-448c-e533-b9bcf6f92070"
      },
      "execution_count": null,
      "outputs": [
        {
          "output_type": "stream",
          "name": "stdout",
          "text": [
            "epoch 0: cost = 0.886528\n",
            "epoch 20: cost = 0.701665\n",
            "epoch 40: cost = 0.694263\n",
            "epoch 60: cost = 0.692812\n",
            "epoch 80: cost = 0.688064\n",
            "epoch 100: cost = 0.645783\n",
            "epoch 120: cost = 0.569613\n",
            "epoch 140: cost = 0.515212\n",
            "epoch 160: cost = 0.473365\n",
            "epoch 180: cost = 0.443003\n",
            "epoch 200: cost = 0.418128\n",
            "epoch 220: cost = 0.393193\n",
            "epoch 240: cost = 0.367560\n",
            "epoch 260: cost = 0.349445\n",
            "epoch 280: cost = 0.338601\n",
            "epoch 300: cost = 0.331036\n",
            "epoch 320: cost = 0.325828\n",
            "epoch 340: cost = 0.321866\n",
            "epoch 360: cost = 0.318803\n",
            "epoch 380: cost = 0.316406\n",
            "epoch 400: cost = 0.313790\n",
            "epoch 420: cost = 0.311823\n",
            "epoch 440: cost = 0.310278\n",
            "epoch 460: cost = 0.309071\n",
            "epoch 480: cost = 0.308080\n",
            "epoch 500: cost = 0.307237\n",
            "epoch 520: cost = 0.306509\n",
            "epoch 540: cost = 0.305874\n",
            "epoch 560: cost = 0.305317\n",
            "epoch 580: cost = 0.304822\n",
            "epoch 600: cost = 0.304381\n",
            "epoch 620: cost = 0.303984\n",
            "epoch 640: cost = 0.303625\n",
            "epoch 660: cost = 0.303297\n",
            "epoch 680: cost = 0.302998\n",
            "epoch 700: cost = 0.302722\n",
            "epoch 720: cost = 0.302466\n",
            "epoch 740: cost = 0.302227\n",
            "epoch 760: cost = 0.302002\n",
            "epoch 780: cost = 0.301790\n",
            "epoch 800: cost = 0.301588\n",
            "epoch 820: cost = 0.301395\n",
            "epoch 840: cost = 0.301210\n",
            "epoch 860: cost = 0.301032\n",
            "epoch 880: cost = 0.300860\n",
            "epoch 900: cost = 0.300692\n",
            "epoch 920: cost = 0.300529\n",
            "epoch 940: cost = 0.300373\n",
            "epoch 960: cost = 0.300224\n",
            "epoch 980: cost = 0.300075\n"
          ]
        }
      ]
    },
    {
      "cell_type": "markdown",
      "source": [
        "# Helper Functions for Visualising Results"
      ],
      "metadata": {
        "id": "wuMwyxjohumU"
      }
    },
    {
      "cell_type": "code",
      "source": [
        "\n",
        "\n",
        "# Predictions & metrics\n",
        "def predict_proba(X_2d):\n",
        "    \"\"\"X_2d: (m,2) -> returns (m,1) probabilities\"\"\"\n",
        "    A0 = X_2d.T                       # (2,m)\n",
        "    y_hat, _ = feed_forward(A0)       # (1,m)\n",
        "    return y_hat.T                    # (m,1)\n",
        "\n",
        "def predict_classes(X_2d, threshold=0.5):\n",
        "    p = predict_proba(X_2d)\n",
        "    return (p >= threshold).astype(int)\n",
        "\n",
        "def binary_metrics(y_true_rowvec, y_pred_rowvec):\n",
        "    \"\"\"\n",
        "    y_true_rowvec, y_pred_rowvec: shape (1, m) of 0/1\n",
        "    returns accuracy, precision, recall\n",
        "    \"\"\"\n",
        "    y_true = y_true_rowvec.reshape(-1)\n",
        "    y_pred = y_pred_rowvec.reshape(-1)\n",
        "    TP = np.sum((y_true==1) & (y_pred==1))\n",
        "    TN = np.sum((y_true==0) & (y_pred==0))\n",
        "    FP = np.sum((y_true==0) & (y_pred==1))\n",
        "    FN = np.sum((y_true==1) & (y_pred==0))\n",
        "    acc = (TP + TN) / max(1, (TP + TN + FP + FN))\n",
        "    prec = TP / max(1, (TP + FP))\n",
        "    rec = TP / max(1, (TP + FN))\n",
        "    return acc, prec, rec\n",
        "\n",
        "# ----- Plots -----\n",
        "def plot_loss(costs):\n",
        "    plt.figure()\n",
        "    plt.plot(range(len(costs)), costs)\n",
        "    plt.xlabel(\"Epoch\")\n",
        "    plt.ylabel(\"Loss (Binary Cross-Entropy)\")\n",
        "    plt.title(\"Training Loss Curve\")\n",
        "    plt.show()\n",
        "\n",
        "def plot_decision_boundary(X_2d, y_rowvec, padding=0.5, h=0.02, threshold=0.5):\n",
        "    \"\"\"\n",
        "    Visualize decision boundary for 2D input.\n",
        "    X_2d: (m,2), y_rowvec: (1,m)\n",
        "    \"\"\"\n",
        "    x_min, x_max = X_2d[:,0].min()-padding, X_2d[:,0].max()+padding\n",
        "    y_min, y_max = X_2d[:,1].min()-padding, X_2d[:,1].max()+padding\n",
        "    xx, yy = np.meshgrid(np.arange(x_min, x_max, h),\n",
        "                         np.arange(y_min, y_max, h))\n",
        "    grid = np.c_[xx.ravel(), yy.ravel()]     # (N,2)\n",
        "    Z = predict_proba(grid)                  # (N,1)\n",
        "    Z = (Z >= threshold).astype(int).reshape(xx.shape)\n",
        "\n",
        "    plt.figure()\n",
        "    plt.contourf(xx, yy, Z, alpha=0.4, levels=[-0.5,0.5,1.5])\n",
        "    y_flat = y_rowvec.reshape(-1)\n",
        "    plt.scatter(X_2d[:,0], X_2d[:,1], c=y_flat, edgecolor='k')\n",
        "    plt.xlabel(\"x1\"); plt.ylabel(\"x2\")\n",
        "    plt.title(\"Decision Boundary\")\n",
        "    plt.show()\n",
        "\n",
        "\n",
        "\n",
        "def plot_confusion_matrix(y_true, y_pred):\n",
        "    \"\"\"\n",
        "    Computes and plots the confusion matrix for binary classification.\n",
        "\n",
        "    Parameters:\n",
        "    - y_true: Actual labels, shape (1, m)\n",
        "    - y_pred: Predicted probabilities, shape (1, m)\n",
        "\n",
        "    Returns:\n",
        "    - cm: The computed confusion matrix as a 2D numpy array\n",
        "    \"\"\"\n",
        "    # Step 1: Convert predicted probabilities to class labels (0 or 1)\n",
        "    y_pred_classes = (y_pred > 0.5).astype(int)\n",
        "\n",
        "    # Step 2: Flatten the arrays to match sklearn's input format\n",
        "    y_true_flat = y_true.flatten()\n",
        "    y_pred_flat = y_pred_classes.flatten()\n",
        "\n",
        "    # Step 3: Compute confusion matrix\n",
        "    cm = confusion_matrix(y_true_flat, y_pred_flat)\n",
        "\n",
        "    # Step 4: Plot the confusion matrix\n",
        "    plt.figure(figsize=(5, 4))\n",
        "    plt.imshow(cm, interpolation='nearest', cmap=plt.cm.Blues)\n",
        "    plt.title('Confusion Matrix')\n",
        "    plt.colorbar()\n",
        "\n",
        "    # Define labels\n",
        "    classes = ['Negative (0)', 'Positive (1)']\n",
        "    tick_marks = np.arange(len(classes))\n",
        "    plt.xticks(tick_marks, classes)\n",
        "    plt.yticks(tick_marks, classes)\n",
        "\n",
        "    # Step 5: Annotate each cell with the count\n",
        "    thresh = cm.max() / 2\n",
        "    for i in range(cm.shape[0]):\n",
        "        for j in range(cm.shape[1]):\n",
        "            plt.text(j, i, format(cm[i, j], 'd'),\n",
        "                     horizontalalignment=\"center\",\n",
        "                     color=\"white\" if cm[i, j] > thresh else \"black\")\n",
        "\n",
        "    # Add axis labels\n",
        "    plt.ylabel('Actual Label')\n",
        "    plt.xlabel('Predicted Label')\n",
        "    plt.tight_layout()\n",
        "    plt.show()\n",
        "\n",
        "    return cm"
      ],
      "metadata": {
        "id": "K49NRVvROh_T"
      },
      "execution_count": null,
      "outputs": []
    },
    {
      "cell_type": "markdown",
      "source": [
        "## plot loss, compute metrics, and visualize boundary"
      ],
      "metadata": {
        "id": "wNSPwvmLPIYB"
      }
    },
    {
      "cell_type": "code",
      "source": [
        "# Loss curve\n",
        "plot_loss(costs)\n",
        "\n",
        "# Predictions & metrics\n",
        "y_prob = feed_forward(A0)[0]             # (1,m)\n",
        "y_pred = (y_prob >= 0.5).astype(int)     # (1,m)\n",
        "acc, prec, rec = binary_metrics(y, y_pred)\n",
        "print(f\"Accuracy: {acc:.4f}  Precision: {prec:.4f}  Recall: {rec:.4f}\")"
      ],
      "metadata": {
        "colab": {
          "base_uri": "https://localhost:8080/",
          "height": 489
        },
        "id": "VPPJ-HwlPHRv",
        "outputId": "1d158a66-d9e1-4fb6-c84c-908ed48b8976"
      },
      "execution_count": null,
      "outputs": [
        {
          "output_type": "display_data",
          "data": {
            "text/plain": [
              "<Figure size 640x480 with 1 Axes>"
            ],
            "image/png": "[encoded data removed]"
          },
          "metadata": {}
        },
        {
          "output_type": "stream",
          "name": "stdout",
          "text": [
            "Accuracy: 0.8900  Precision: 0.9149  Recall: 0.8600\n"
          ]
        }
      ]
    },
    {
      "cell_type": "code",
      "source": [
        "# Plot confusion matrix\n",
        "cm = plot_confusion_matrix(y, y_hat)\n",
        "print(\"Confusion Matrix:\\n\", cm)"
      ],
      "metadata": {
        "id": "EVyAtFsVh7d4"
      },
      "execution_count": null,
      "outputs": []
    },
    {
      "cell_type": "code",
      "source": [
        "# Decision boundary (for 2D input)\n",
        "plot_decision_boundary(X, y, threshold=0.5)"
      ],
      "metadata": {
        "colab": {
          "base_uri": "https://localhost:8080/",
          "height": 472
        },
        "id": "Q1n42pepPdY6",
        "outputId": "119f2869-f16b-4167-e3de-60301a772627"
      },
      "execution_count": null,
      "outputs": [
        {
          "output_type": "display_data",
          "data": {
            "text/plain": [
              "<Figure size 640x480 with 1 Axes>"
            ],
            "image/png": "[encoded data removed]"
          },
          "metadata": {}
        }
      ]
    }
  ],
  "metadata": {
    "anaconda-cloud": {},
    "colab": {
      "provenance": [],
      "include_colab_link": true
    },
    "hide_input": false,
    "kernelspec": {
      "display_name": "Python 3 (ipykernel)",
      "language": "python",
      "name": "python3"
    },
    "language_info": {
      "codemirror_mode": {
        "name": "ipython",
        "version": 3
      },
      "file_extension": ".py",
      "mimetype": "text/x-python",
      "name": "python",
      "nbconvert_exporter": "python",
      "pygments_lexer": "ipython3",
      "version": "3.10.9"
    },
    "toc": {
      "base_numbering": 1,
      "nav_menu": {},
      "number_sections": true,
      "sideBar": true,
      "skip_h1_title": false,
      "title_cell": "Table of Contents",
      "title_sidebar": "Contents",
      "toc_cell": false,
      "toc_position": {},
      "toc_section_display": true,
      "toc_window_display": false
    }
  },
  "nbformat": 4,
  "nbformat_minor": 0
}